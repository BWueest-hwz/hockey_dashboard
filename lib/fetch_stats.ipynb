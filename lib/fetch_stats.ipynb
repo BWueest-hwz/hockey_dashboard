{
 "cells": [
  {
   "cell_type": "markdown",
   "metadata": {},
   "source": [
    "## Imports and definition of leagues"
   ]
  },
  {
   "cell_type": "code",
   "execution_count": 192,
   "metadata": {},
   "outputs": [],
   "source": [
    "# load modules, install if not present\n",
    "try:\n",
    "    import pandas as pd\n",
    "except ImportError:\n",
    "    !pip install pandas\n",
    "    import pandas as pd\n",
    "\n",
    "try:\n",
    "    import numpy as np\n",
    "except ImportError:\n",
    "    !pip install numpy\n",
    "    import numpy as np\n",
    "\n",
    "try:\n",
    "    import requests\n",
    "except ImportError:\n",
    "    !pip install requests\n",
    "    import requests\n",
    "\n",
    "try: \n",
    "  import sqlite3 as db\n",
    "except ImportError:\n",
    "  !pip install sqlite3\n",
    "  import sqlite3 as db\n",
    "\n",
    "# already included in python\n",
    "import io, os"
   ]
  },
  {
   "cell_type": "code",
   "execution_count": 193,
   "metadata": {
    "id": "kv1wI4PyB13_"
   },
   "outputs": [],
   "source": [
    "# define league IDs\n",
    "league_dic = {\"Women's Hockey League\": 'WL', '1. Liga': 'L1', 'U-21 Elit': 'U21', 'National League': 'NL', 'Swiss League': 'SL', 'MyHockey League': 'ML'}"
   ]
  },
  {
   "cell_type": "markdown",
   "metadata": {
    "id": "0IgqRXEuKc4h"
   },
   "source": [
    "## Download functions"
   ]
  },
  {
   "cell_type": "code",
   "execution_count": 194,
   "metadata": {
    "id": "HvgWPbLBKeL2"
   },
   "outputs": [],
   "source": [
    "# Gets the URL for game-CSV for given leagues and seasons\n",
    "def games_url(year_of_past_games, league_id):\n",
    "  date_range = '01.09.' + str(year_of_past_games-1) + '-31.08.' + str(year_of_past_games)\n",
    "  if league_id == 'WL':\n",
    "    return f'https://data.sihf.ch/Statistic/api/cms/export?alias=results&searchQuery=1/2015-2099/42&filterQuery={str(year_of_past_games)}/all/{date_range}//all/all&orderBy=date&orderByDescending=false&filterBy=season,phase,date,deferredState,team1,team2&format=csv'\n",
    "  elif league_id == 'U21' and year_of_past_games >= 2026:\n",
    "    return f'https://data.sihf.ch/Statistic/api/cms/export?alias=results&searchQuery=1,10,11/2015-2099/4,5,14,15,16,23,24,25,26,28,27,29,30,31,32,60,61,105,106,107,113,114,115,116,117,118,119,120,121,122,123,124,125&filterQuery={str(year_of_past_games)}/113/all/all/{date_range}//all/all&orderBy=date&orderByDescending=false&filterBy=season,league,region,phase,date,deferredState,team1,team2&format=csv'\n",
    "  elif league_id == 'U21' and year_of_past_games < 2026:\n",
    "    return f'https://data.sihf.ch/Statistic/api/cms/export?alias=results&searchQuery=1,10,11/2015-2099/4,5,14,15,16,23,24,25,26,28,27,29,30,31,32,60,61,105,106,107,113,114,115,116,117,118,119,120,121,122,123,124,125&filterQuery={str(year_of_past_games)}/4/all/all/{date_range}//all/all&orderBy=date&orderByDescending=false&filterBy=season,league,region,phase,date,deferredState,team1,team2&format=csv'\n",
    "  elif league_id == 'L1':\n",
    "    return f'https://data.sihf.ch/Statistic/api/cms/export?alias=results&searchQuery=1,10/2015-2099/3,10,18,19,33,35,36,38,37,39,40,41,43,101,44,45,46,104,83&filterQuery={str(year_of_past_games)}/3/all/all/{date_range}//all/all&orderBy=date&orderByDescending=false&filterBy=season,league,region,phase,date,deferredState,team1,team2&format=csv'\n",
    "  elif league_id == 'NL':\n",
    "    return f'https://data.sihf.ch/Statistic/api/cms/export?alias=results&searchQuery=1,10//1&filterQuery={str(year_of_past_games)}/all/{date_range}//all/all&filterBy=season,phase,date,deferredState,team1,team2&orderBy=date&orderByDescending=false&format=csv'\n",
    "  elif league_id == 'SL':\n",
    "    return f'https://data.sihf.ch/Statistic/api/cms/export?alias=results&searchQuery=1,10//2&filterQuery={str(year_of_past_games)}/all/{date_range}//all/all&filterBy=season,phase,date,deferredState,team1,team2&orderBy=date&orderByDescending=false&format=csv'\n",
    "  elif league_id == 'ML':\n",
    "    return f'https://data.sihf.ch/Statistic/api/cms/export?alias=results&searchQuery=1,8,10/2018-2099/100&filterQuery={str(year_of_past_games)}/all/{date_range}//all/all&filterBy=season,phase,date,deferredState,team1,team2&orderBy=date&orderByDescending=false&format=csv'\n",
    "  else:\n",
    "     return 'Could not find csv-URL for this League ID: ' + league_id\n",
    "\n",
    "# Gets the URL for game-CSV for given leagues and seasons\n",
    "def season_url(year_of_past_games, league_id):\n",
    "  if league_id == 'WL' and year_of_past_games <= 2021:\n",
    "    return f'https://data.sihf.ch/Statistic/api/cms/export?alias=standing&searchQuery=1,10/2015-2099/42&filterQuery={str(year_of_past_games)}/2767&orderBy=rank&orderByDescending=false&filterBy=Season&format=csv'\n",
    "  elif league_id == 'WL' and year_of_past_games == 2022:\n",
    "    return f'https://data.sihf.ch/Statistic/api/cms/export?alias=standing&searchQuery=1,10/2015-2099/42&filterQuery={str(year_of_past_games)}/3573&orderBy=rank&orderByDescending=false&filterBy=Season,Phase&format=csv'\n",
    "  elif league_id == 'WL' and year_of_past_games == 2023:\n",
    "    return f'https://data.sihf.ch/Statistic/api/cms/export?alias=standing&searchQuery=1,10/2015-2099/42&filterQuery={str(year_of_past_games)}/3844&orderBy=rank&orderByDescending=false&filterBy=Season,Phase&format=csv'\n",
    "  elif league_id == 'WL' and year_of_past_games > 2023:\n",
    "    return f'https://data.sihf.ch/Statistic/api/cms/export?alias=standing&searchQuery=1,10/2015-2099/42&filterQuery={str(year_of_past_games)}/4261&orderBy=rank&orderByDescending=false&filterBy=Season,Phase&format=csv'\n",
    "  elif league_id == 'U21' and year_of_past_games >= 2025:\n",
    "    return f'https://data.sihf.ch/Statistic/api/cms/export?alias=standing&searchQuery=1,10,11/2015-2099/4,5,14,15,16,23,24,25,26,28,27,29,30,31,32,60,61,105,106,107,113,114,115,116,117,118,119,120,121,122,123,124,125&filterQuery={str(year_of_past_games)}/4/1/4688/All&orderBy=rank&orderByDescending=false&filterBy=Season,League,Region,Phase,ContentType&format=csv'\n",
    "  elif league_id == 'U21' and year_of_past_games == 2024:\n",
    "    return f'https://data.sihf.ch/Statistic/api/cms/export?alias=standing&searchQuery=1,10,11/2015-2099/4,5,14,15,16,23,24,25,26,28,27,29,30,31,32,60,61,105,106,107,113,114,115,116,117,118,119,120,121,122,123,124,125&filterQuery={str(year_of_past_games)}/4/1/4326/All&orderBy=rank&orderByDescending=false&filterBy=Season,League,Region,Phase,ContentType&format=csv'\n",
    "  elif league_id == 'U21' and year_of_past_games == 2023:\n",
    "    return f'https://data.sihf.ch/Statistic/api/cms/export?alias=standing&searchQuery=1,10,11/2015-2099/4,5,14,15,16,23,24,25,26,28,27,29,30,31,32,60,61,105,106,107,113,114,115,116,117,118,119,120,121,122,123,124,125&filterQuery={str(year_of_past_games)}/4/1/3967/All&orderBy=rank&orderByDescending=false&filterBy=Season,League,Region,Phase,ContentType&format=csv'\n",
    "  elif league_id == 'U21' and year_of_past_games in [2022,2021]:\n",
    "    return f'https://data.sihf.ch/Statistic/api/cms/export?alias=standing&searchQuery=1,10,11/2015-2099/4,5,14,15,16,23,24,25,26,28,27,29,30,31,32,60,61,105,106,107,113,114,115,116,117,118,119,120,121,122,123,124,125&filterQuery={str(year_of_past_games)}/4/1/3645/All&orderBy=rank&orderByDescending=false&filterBy=Season,League,Region,Phase,ContentType&format=csv'\n",
    "  elif league_id == 'U21' and year_of_past_games == 2020:\n",
    "    return f'https://data.sihf.ch/Statistic/api/cms/export?alias=standing&searchQuery=1,10,11/2015-2099/4,5,14,15,16,23,24,25,26,28,27,29,30,31,32,60,61,105,106,107,113,114,115,116,117,118,119,120,121,122,123,124,125&filterQuery={str(year_of_past_games)}/4/1/3176/All&orderBy=rank&orderByDescending=false&filterBy=Season,League,Region,Phase,ContentType&format=csv'\n",
    "  elif league_id == 'U21' and year_of_past_games < 2020:\n",
    "    return f'https://data.sihf.ch/Statistic/api/cms/export?alias=standing&searchQuery=1,10,11/2015-2099/4,5,14,15,16,23,24,25,26,28,27,29,30,31,32,60,61,105,106,107,113,114,115,116,117,118,119,120,121,122,123,124,125&filterQuery={str(year_of_past_games)}/4/1/2829/All&orderBy=rank&orderByDescending=false&filterBy=Season,League,Region,Phase,ContentType&format=csv'\n",
    "  elif league_id == 'L1':\n",
    "    if year_of_past_games == 2026:\n",
    "      fillin = ['4969', '4968']\n",
    "    elif year_of_past_games == 2025:\n",
    "      fillin = ['4626', '4625']\n",
    "    elif year_of_past_games == 2024:\n",
    "      fillin = ['4231', '4187']\n",
    "    elif year_of_past_games == 2023:\n",
    "      fillin = ['3803', '3804']\n",
    "    elif year_of_past_games == 2022:\n",
    "      fillin = ['3515', '3514']\n",
    "    elif year_of_past_games == 2021:\n",
    "      fillin = ['3354', '3352']\n",
    "    elif year_of_past_games == 2020:\n",
    "      fillin = ['3037', '3036']\n",
    "    elif year_of_past_games == 2019:\n",
    "      fillin = ['2710', '2709']\n",
    "    return [f'https://data.sihf.ch/Statistic/api/cms/export?alias=standing&searchQuery=1,10/2015-2099/3,10,18,19,33,35,36,38,37,39,40,41,43,101,44,45,46,104&filterQuery={str(year_of_past_games)}/3/5/{fillin[0]}&orderBy=rank&orderByDescending=false&filterBy=Season,League,Region,Phase&format=csv',\n",
    "            f'https://data.sihf.ch/Statistic/api/cms/export?alias=standing&searchQuery=1,10/2015-2099/3,10,18,19,33,35,36,38,37,39,40,41,43,101,44,45,46,104&filterQuery={str(year_of_past_games)}/3/5/{fillin[1]}&orderBy=rank&orderByDescending=false&filterBy=Season,League,Region,Phase&format=csv']\n",
    "  elif league_id == 'NL' and year_of_past_games != 2020:\n",
    "    return f'https://data.sihf.ch/Statistic/api/cms/export?alias=standing&searchQuery=1//1&filterQuery={str(year_of_past_games)}/2823/All&filterBy=Season,Phase,ContentType&orderBy=rank&orderByDescending=false&format=csv'\n",
    "  elif league_id == 'NL' and year_of_past_games == 2020:\n",
    "    return f'https://data.sihf.ch/Statistic/api/cms/export?alias=standing&searchQuery=1//1&filterQuery={str(year_of_past_games)}/3092/All&filterBy=Season,Phase,ContentType&orderBy=rank&orderByDescending=false&format=csv'\n",
    "  elif league_id == 'SL' and year_of_past_games >= 2021:\n",
    "    return f'https://data.sihf.ch/Statistic/api/cms/export?alias=standing&searchQuery=1//2&filterQuery={str(year_of_past_games)}/4941/All&filterBy=Season,Phase,ContentType&orderBy=rank&orderByDescending=false&format=csv'\n",
    "  elif league_id == 'SL' and year_of_past_games < 2021:\n",
    "    return f'https://data.sihf.ch/Statistic/api/cms/export?alias=standing&searchQuery=1//2&filterQuery={str(year_of_past_games)}/3174/All&filterBy=Season,Phase,ContentType&orderBy=rank&orderByDescending=false&format=csv'\n",
    "  elif league_id == 'ML' and year_of_past_games >= 2024:\n",
    "    return f'https://data.sihf.ch/Statistic/api/cms/export?alias=standing&searchQuery=1/2018-2099/100&filterQuery={str(year_of_past_games)}/4948/All&filterBy=Season,Phase,ContentType&orderBy=rank&orderByDescending=false&format=csv'\n",
    "  elif league_id == 'ML' and year_of_past_games == 2023:\n",
    "    return f'https://data.sihf.ch/Statistic/api/cms/export?alias=standing&searchQuery=1/2018-2099/100&filterQuery={str(year_of_past_games)}/3813/All&filterBy=Season,Phase,ContentType&orderBy=rank&orderByDescending=false&format=csv'\n",
    "  elif league_id == 'ML' and year_of_past_games in [2022,2021]:\n",
    "    return f'https://data.sihf.ch/Statistic/api/cms/export?alias=standing&searchQuery=1/2018-2099/100&filterQuery={str(year_of_past_games)}/3544/All&filterBy=Season,Phase,ContentType&orderBy=rank&orderByDescending=false&format=csv'\n",
    "  elif league_id == 'ML' and year_of_past_games == 2020:\n",
    "    return f'https://data.sihf.ch/Statistic/api/cms/export?alias=standing&searchQuery=1/2018-2099/100&filterQuery={str(year_of_past_games)}/3072/All&filterBy=Season,Phase,ContentType&orderBy=rank&orderByDescending=false&format=csv'\n",
    "  elif league_id == 'ML' and year_of_past_games < 2020:\n",
    "    return f'https://data.sihf.ch/Statistic/api/cms/export?alias=standing&searchQuery=1/2018-2099/100&filterQuery={str(year_of_past_games)}/2812/All&filterBy=Season,Phase,ContentType&orderBy=rank&orderByDescending=false&format=csv'\n",
    "  else:\n",
    "     return 'Could not find csv-URL for this League ID: ' + league_id\n",
    "\n",
    "# Gets stats for games, players and goalies for a given game-ID\n",
    "def game_url(game_id):\n",
    "  game_url_dic = {'player_home': f'https://data.sihf.ch/statistic/api/cms/export/gamestats?searchQuery={game_id}&language=de&alias=gamePlayerStatsHome&format=csv',\n",
    "                  'goalie_home': f'https://data.sihf.ch/statistic/api/cms/export/gamestats?searchQuery={game_id}&language=de&alias=gameGoalieStatsHome&format=csv',\n",
    "                  'player_away': f'https://data.sihf.ch/statistic/api/cms/export/gamestats?searchQuery={game_id}&language=de&alias=gamePlayerStatsAway&format=csv',\n",
    "                  'goalie_away': f'https://data.sihf.ch/statistic/api/cms/export/gamestats?searchQuery={game_id}&language=de&alias=gameGoalieStatsAway&format=csv',\n",
    "                  'game': f'https://data.sihf.ch/statistic/api/cms/export/gamestats?searchQuery={game_id}&language=de&alias=gameTeamStats&format=csv'}\n",
    "  return game_url_dic"
   ]
  },
  {
   "cell_type": "code",
   "execution_count": 195,
   "metadata": {},
   "outputs": [],
   "source": [
    "# downloads the game csv-data-tables and returns as pandas dataframe\n",
    "def get_table(url, league_id, year):\n",
    "  headers = {\"User-Agent\": \"Mozilla/5.0 (Windows NT 10.0; Win64; x64) AppleWebKit/537.36 (KHTML, like Gecko) Chrome/114.0.0.0 Safari/537.36\",\n",
    "        \"Accept-Encoding\": \"gzip, deflate, br\"}\n",
    "  try:\n",
    "      response = requests.get(url, headers=headers)\n",
    "      # Check if the request was successful\n",
    "      if response.status_code == 200:\n",
    "          return pd.read_csv(io.StringIO(response.text), sep = ';')\n",
    "      else:\n",
    "          print(f\"Failed to retrieve the table for {league_id} in year {year}. Status code: {response.status_code}\")\n",
    "  except Exception as e:\n",
    "      print(f\"An error occurred: {e}\")"
   ]
  },
  {
   "cell_type": "markdown",
   "metadata": {},
   "source": [
    "# Downloads\n",
    "\n",
    "## Get all games for given years"
   ]
  },
  {
   "cell_type": "code",
   "execution_count": null,
   "metadata": {},
   "outputs": [],
   "source": [
    "# Get the general game info for all leagues and seasons\n",
    "games_dic = {}\n",
    "for league_name, league_code in league_dic.items():\n",
    "    games = {}\n",
    "    for year in [2019,2020,2021,2022,2023,2024,2025,2026]:\n",
    "        url = games_url(year_of_past_games=year, league_id=league_code)\n",
    "        dat = get_table(url, league_id=league_code, year=year)\n",
    "        games[str(year)] = dat\n",
    "    games = pd.concat(games, axis=0).reset_index()\n",
    "    games_dic[league_code] = games"
   ]
  },
  {
   "cell_type": "markdown",
   "metadata": {},
   "source": [
    "## Get all season results"
   ]
  },
  {
   "cell_type": "code",
   "execution_count": null,
   "metadata": {},
   "outputs": [],
   "source": [
    "# Get the general game info for all leagues and seasons\n",
    "tournament_dic = {}\n",
    "for league_name, league_code in league_dic.items():\n",
    "    games = {}\n",
    "    for year in [2019,2020,2021,2022,2023,2024,2025,2026]:\n",
    "        if league_code == 'L1':\n",
    "            url = season_url(year_of_past_games=year, league_id=league_code)\n",
    "            dat = get_table(url[0], league_id=league_code, year=year)\n",
    "            dat['Gruppe'] = 'Ost'\n",
    "            dat2 = get_table(url[1], league_id=league_code, year=year)\n",
    "            dat2['Gruppe'] = 'West'\n",
    "            dat = pd.concat([dat, dat2], axis=0).reset_index()\n",
    "        else:\n",
    "            url = season_url(year_of_past_games=year, league_id=league_code)\n",
    "            dat = get_table(url, league_id=league_code, year=year)\n",
    "    games[str(year)] = dat\n",
    "    games = pd.concat(games, axis=0).reset_index()\n",
    "    tournament_dic[league_code] = games"
   ]
  },
  {
   "cell_type": "markdown",
   "metadata": {
    "id": "050fG5VUKGTV"
   },
   "source": [
    "## Get info on each player in each game"
   ]
  },
  {
   "cell_type": "code",
   "execution_count": 200,
   "metadata": {
    "colab": {
     "base_uri": "https://localhost:8080/"
    },
    "id": "bXeKmf85icWT",
    "outputId": "44e123bb-7cfa-4d34-ebe7-942c553463d6",
    "scrolled": true
   },
   "outputs": [],
   "source": [
    "# Get the player and goalie infos\n",
    "player_dic = {}\n",
    "goalie_dic = {}\n",
    "\n",
    "for league_name, league_code in league_dic.items():\n",
    "    games = games_dic[league_code]\n",
    "    game_goalies = {}\n",
    "    game_players = {}\n",
    "    for i, row in games.iterrows():\n",
    "        game_id = row['Id']\n",
    "        if row['Resultat'].strip() != '-:-':\n",
    "            urls = game_url(game_id)\n",
    "            goalies = {}\n",
    "            players = {}\n",
    "            for key, url in urls.items():\n",
    "                dat = get_table(url, league_code, row['level_0'])\n",
    "                if key.startswith('goalie'):\n",
    "                    goalies[key] = dat\n",
    "                elif key.startswith('player'):\n",
    "                    players[key] = dat\n",
    "                else:\n",
    "                    'Cound not match table key'\n",
    "            goalies = pd.concat(goalies, axis=0).reset_index()\n",
    "            goalies['game_id'] = game_id\n",
    "            players = pd.concat(players, axis=0).reset_index()\n",
    "            players['game_id'] = game_id\n",
    "            game_goalies[game_id] = goalies\n",
    "            game_players[game_id] = players\n",
    "    # Merge data\n",
    "    game_goalies = pd.concat(game_goalies, axis=0).reset_index(drop=True)\n",
    "    game_players = pd.concat(game_players, axis=0).reset_index(drop=True)\n",
    "    game_players = game_players[game_players['Spieler'] != 'Total']\n",
    "    player_dic[league_code] = game_players\n",
    "    goalie_dic[league_code] = game_goalies\n"
   ]
  },
  {
   "cell_type": "markdown",
   "metadata": {},
   "source": [
    "## Get game stats"
   ]
  },
  {
   "cell_type": "code",
   "execution_count": 239,
   "metadata": {},
   "outputs": [],
   "source": [
    "# Fetch the game details\n",
    "game_stats_dic = {}\n",
    "for league_name, league_code in league_dic.items():\n",
    "    games = games_dic[league_code]\n",
    "    game_stats = {}\n",
    "    for i, row in games.iterrows():\n",
    "        game_id = row['Id']\n",
    "        if row['Resultat'].strip() != '-:-':\n",
    "            urls = game_url(game_id)\n",
    "            dat = get_table(urls['game'], league_code, row['level_0'])\n",
    "            dat['game_id'] = game_id\n",
    "            home = dat.columns[1]\n",
    "            away = dat.columns[2]\n",
    "            dat.rename(columns={home: 'Home', away: 'Away'}, inplace=True)\n",
    "            dat.loc[len(dat)] = ['Teams', home, away, game_id]\n",
    "            game_stats[game_id] = dat\n",
    "    game_stats = pd.concat(game_stats, axis=0).reset_index()\n",
    "    game_stats_dic[league_code] = game_stats\n"
   ]
  },
  {
   "cell_type": "markdown",
   "metadata": {},
   "source": [
    "# Compile an save tables\n",
    "\n",
    "## Teams"
   ]
  },
  {
   "cell_type": "code",
   "execution_count": null,
   "metadata": {},
   "outputs": [],
   "source": [
    "# get table of teams, standardize team names and add logo images\n",
    "for league_name, league_code in league_dic.items():\n",
    "    games = games_dic[league_code]\n",
    "    teams = set(games['Home'].unique()).union(set(games['Away'].unique()))\n",
    "    teams=pd.DataFrame(list(teams),columns=['team_name'])\n",
    "    teams['team_id']=teams.index + 1\n",
    "    logos = pd.read_excel('../data/4321-manual.xlsx')\n",
    "    logos['png_url'] = 'https://www.sihf.ch' + logos['png_url']\n",
    "    teams = pd.merge(teams, logos, on='team_name', how='left')\n",
    "    #teams = teams[['team_id', 'team_name', 'png_url']]\n",
    "    teams['team_id'] = league_code + '_' + teams['team_id'].astype(str)\n",
    "    teams['png_path'] = teams['png_url'].str.replace('https://www.sihf.ch/Image/Club/', f'../data/images/{league_code}_logos/')\n",
    "    # Download and save team logos\n",
    "    for i, row in teams.iterrows():\n",
    "        #print(row['png_url'])\n",
    "        img_data = requests.get(row['png_url']).content\n",
    "        os.makedirs(os.path.dirname(row['png_path']), exist_ok=True)\n",
    "        with open(row['png_path'], 'wb') as handler:\n",
    "            handler.write(img_data)\n",
    "    # Save data to SQLite database\n",
    "    conn = db.connect(f'../data/hockey_stats.db')\n",
    "    teams.to_sql(f'{league_code}_teams', conn, if_exists='replace', index=False)\n",
    "    conn.commit()\n",
    "    conn.close()\n"
   ]
  },
  {
   "cell_type": "markdown",
   "metadata": {},
   "source": [
    "## Players"
   ]
  },
  {
   "cell_type": "code",
   "execution_count": 242,
   "metadata": {},
   "outputs": [],
   "source": [
    "# compile and save table of players\n",
    "for league_name, league_code in league_dic.items():\n",
    "    players = set(player_dic[league_code]['Spieler'].unique())\n",
    "    players=pd.DataFrame(list(players),columns=['player_name'])\n",
    "    players['player_id']=players.index + 1\n",
    "    players['player_id'] = league_code + '_' + players['player_id'].astype(str)\n",
    "    players = players[['player_id', 'player_name']]\n",
    "    # Save data to SQLite database\n",
    "    conn = db.connect(f'../data/hockey_stats.db')\n",
    "    players.to_sql(f'{league_code}_players', conn, if_exists='replace', index=False)\n",
    "    conn.commit()\n",
    "    conn.close()"
   ]
  },
  {
   "cell_type": "markdown",
   "metadata": {},
   "source": [
    "## Goalies"
   ]
  },
  {
   "cell_type": "code",
   "execution_count": 243,
   "metadata": {},
   "outputs": [],
   "source": [
    "# get tables of goalies\n",
    "for league_name, league_code in league_dic.items():\n",
    "    goalies = set(goalie_dic[league_code]['Spieler'].unique())\n",
    "    goalies=pd.DataFrame(list(goalies),columns=['player_name'])\n",
    "    goalies['player_id']=goalies.index + 1\n",
    "    goalies['player_id'] = league_code + '_' + goalies['player_id'].astype(str)\n",
    "    goalies = goalies[['player_id', 'player_name']]\n",
    "    # Save data to SQLite database\n",
    "    conn = db.connect('../data/hockey_stats.db')\n",
    "    goalies.to_sql(f'{league_code}_goalies', conn, if_exists='replace', index=False)\n",
    "    conn.commit()\n",
    "    conn.close()"
   ]
  },
  {
   "cell_type": "markdown",
   "metadata": {
    "id": "Ia9RAB867NBO"
   },
   "source": [
    "## Games"
   ]
  },
  {
   "cell_type": "code",
   "execution_count": 244,
   "metadata": {
    "scrolled": true
   },
   "outputs": [],
   "source": [
    "# Initialize a game data dataframe\n",
    "df_columns = [\"id\", \"Season\", \"Region\", \"Phase\", \"Date\", \"Weekday\", \"Time\", \"Spectators\", \"Home_Team\", \"Away_Team\", \"Result\", \"Period_Results\",\n",
    "              \"OT\", \"SO\", \"Home_Goals_Forwards\", \"Away_Goals_Forwards\", \"Home_Goals_Defense\", \"Away_Goals_Defense\", \n",
    "              \"Home_Assists_Forwards\", \"Away_Assists_Forwards\", \"Home_Assists_Defense\", \"Away_Assists_Defense\", \"Home_Penalty_Min\", \"Away_Penalty_Min\",\n",
    "              \"Home_Powerplay_Opportunities\", \"Away_Powerplay_Opportunities\", \"Home_Powerplay_Goals\", \"Away_Powerplay_Goals\", \"Home_Shorthanded_Goals\",\n",
    "              \"Away_Shorthanded_Goals\", \"Home_Powerplay_Min\", \"Away_Powerplay_Min\"]\n",
    "\n",
    "for league_name, league_code in league_dic.items():\n",
    "    game_info = pd.DataFrame(columns=df_columns)\n",
    "    games = games_dic[league_code]\n",
    "    # Loop through each game and extract the relevant stats\n",
    "    for i, row in games.iterrows():\n",
    "        game_id = row['Id']\n",
    "        # only process games that have been played\n",
    "        if row['Resultat'].strip() != '-:-':\n",
    "            # determine if game went to overtime or shootout\n",
    "            overtime = 1 if row['OT/SO'] == 'OT' else 0\n",
    "            shootout = 1 if row['OT/SO'] == 'SO' else 0\n",
    "\n",
    "            game_players = player_dic[league_code]\n",
    "            player_dat = game_players[game_players['game_id'] == game_id]\n",
    "\n",
    "            # goals and assists by position\n",
    "            home_goals_forwards = player_dat[(player_dat['level_0'] == 'player_home') & (player_dat['Pos'] == 'Stürmer')]['G'].sum().astype(int)\n",
    "            away_goals_forwards = player_dat[(player_dat['level_0'] == 'player_away') & (player_dat['Pos'] == 'Stürmer')]['G'].sum().astype(int)\n",
    "            home_goals_defense = player_dat[(player_dat['level_0'] == 'player_home') & (player_dat['Pos'] == 'Verteidiger')]['G'].sum().astype(int)\n",
    "            away_goals_defense = player_dat[(player_dat['level_0'] == 'player_away') & (player_dat['Pos'] == 'Verteidiger')]['G'].sum().astype(int)\n",
    "\n",
    "            home_assists_forwards = player_dat[(player_dat['level_0'] == 'player_home') & (player_dat['Pos'] == 'Stürmer')]['A'].sum().astype(int)\n",
    "            away_assists_forwards = player_dat[(player_dat['level_0'] == 'player_away') & (player_dat['Pos'] == 'Stürmer')]['A'].sum().astype(int)\n",
    "            home_assists_defense = player_dat[(player_dat['level_0'] == 'player_home') & (player_dat['Pos'] == 'Verteidiger')]['A'].sum().astype(int)\n",
    "            away_assists_defense = player_dat[(player_dat['level_0'] == 'player_away') & (player_dat['Pos'] == 'Verteidiger')]['A'].sum().astype(int)\n",
    "\n",
    "            # penalty minutes\n",
    "            game_stats = game_stats_dic[league_code]\n",
    "            game_dat = game_stats[game_stats['game_id'] == game_id]\n",
    "            home_penalty_minutes = game_dat[(game_dat['Stats'] == 'PIM Total')]['Home']\n",
    "            try:\n",
    "                home_penalty_minutes = float(home_penalty_minutes.iloc[0])\n",
    "            except:\n",
    "                home_penalty_minutes = float(0)\n",
    "            away_penalty_minutes = game_dat[(game_dat['Stats'] == 'PIM Total')]['Away']\n",
    "            try:\n",
    "                away_penalty_minutes = float(away_penalty_minutes.iloc[0])\n",
    "            except:\n",
    "                away_penalty_minutes = float(0)\n",
    "\n",
    "            # special teams stats\n",
    "            home_powerplay_n = int(game_dat[(game_dat['Stats'] == 'PP OP')]['Home'].iloc[0])\n",
    "            away_powerplay_n = int(game_dat[(game_dat['Stats'] == 'PP OP')]['Away'].iloc[0])\n",
    "\n",
    "            home_powerplay_goals = int(game_dat[(game_dat['Stats'] == 'PPG')]['Home'].iloc[0])\n",
    "            away_powerplay_goals = int(game_dat[(game_dat['Stats'] == 'PPG')]['Away'].iloc[0])\n",
    "\n",
    "            home_shorthand_goals = int(game_dat[(game_dat['Stats'] == 'SHG')]['Home'].iloc[0])\n",
    "            away_shorthand_goals = int(game_dat[(game_dat['Stats'] == 'SHG')]['Away'].iloc[0])\n",
    "\n",
    "            home_powerplay_min = game_dat[(game_dat['Stats'] == 'PPT')]['Home']\n",
    "            home_powerplay_min = float(home_powerplay_min.iloc[0].replace(':','.'))\n",
    "            away_powerplay_min = game_dat[(game_dat['Stats'] == 'PPT')]['Away']\n",
    "            away_powerplay_min = float(away_powerplay_min.iloc[0].replace(':','.'))\n",
    "        \n",
    "            # Add all data to the dataset\n",
    "            game_info.loc[(i+1)] = {\n",
    "                \"id\": game_id,\n",
    "                \"Season\": row['level_0'],\n",
    "                \"Region\": row['Region'],\n",
    "                \"Phase\": row['Phase'],\n",
    "                \"Date\": row['Datum'],\n",
    "                \"Weekday\": row['Tag'],\n",
    "                \"Time\": row['Zeit'],\n",
    "                \"Spectators\": row['Zus.'],\n",
    "                \"Home_Team\": row['Home'],\n",
    "                \"Away_Team\": row['Away'],\n",
    "                \"Result\": row['Resultat'],\n",
    "                \"Period_Results\": row['Drittel'],\n",
    "                \"OT\": overtime,\n",
    "                \"SO\": shootout,\n",
    "                \"Home_Goals_Forwards\": home_goals_forwards,\n",
    "                \"Away_Goals_Forwards\": away_goals_forwards,\n",
    "                \"Home_Goals_Defense\": home_goals_defense,\n",
    "                \"Away_Goals_Defense\": away_goals_defense,\n",
    "                \"Home_Assists_Forwards\": home_assists_forwards,\n",
    "                \"Away_Assists_Forwards\": away_assists_forwards,\n",
    "                \"Home_Assists_Defense\": home_assists_defense,\n",
    "                \"Away_Assists_Defense\": away_assists_defense,\n",
    "                \"Home_Penalty_Min\": home_penalty_minutes,\n",
    "                \"Away_Penalty_Min\": away_penalty_minutes,\n",
    "                \"Home_Powerplay_Opportunities\": home_powerplay_n,\n",
    "                \"Away_Powerplay_Opportunities\": away_powerplay_n,\n",
    "                \"Home_Powerplay_Goals\": home_powerplay_goals,\n",
    "                \"Away_Powerplay_Goals\": away_powerplay_goals,\n",
    "                \"Home_Shorthanded_Goals\": home_shorthand_goals,\n",
    "                \"Away_Shorthanded_Goals\": away_shorthand_goals,\n",
    "                \"Home_Powerplay_Min\": home_powerplay_min,\n",
    "                \"Away_Powerplay_Min\": away_powerplay_min\n",
    "            }\n",
    "\n",
    "    # Save data to SQLite database\n",
    "    conn = db.connect('../data/hockey_stats.db')\n",
    "    game_info.to_sql(f'{league_code}_game_stats', conn, if_exists='replace', index=False)\n",
    "    conn.commit()\n",
    "    conn.close()"
   ]
  },
  {
   "cell_type": "code",
   "execution_count": 249,
   "metadata": {},
   "outputs": [],
   "source": [
    "# Clean up games dataframe for saving\n",
    "for league_name, league_code in league_dic.items():\n",
    "    games = games_dic[league_code]\n",
    "    games = games.copy()\n",
    "    games = games[['Id', 'level_0', 'Region', 'Phase', 'Datum', 'Tag', 'Zeit', 'Home', 'Away', 'Resultat']]\n",
    "    games.rename(columns={'level_0': 'Season', 'Datum': 'Date', 'Tag': 'Weekday', 'Zeit': 'Time'}, inplace=True)\n",
    "\n",
    "    # Save data to SQLite database\n",
    "    conn = db.connect('../data/hockey_stats.db')\n",
    "    games.to_sql(f'{league_code}_games', conn, if_exists='replace', index=False)\n",
    "    conn.commit()\n",
    "    conn.close()"
   ]
  },
  {
   "cell_type": "markdown",
   "metadata": {},
   "source": [
    "## Players per Game"
   ]
  },
  {
   "cell_type": "code",
   "execution_count": 250,
   "metadata": {},
   "outputs": [],
   "source": [
    "# get and save table of players per game\n",
    "for league_name, league_code in league_dic.items():\n",
    "    players_game = player_dic[league_code]\n",
    "    players_game = players_game.copy()\n",
    "    players_game.drop(columns=['level_1', 'A1', 'A2', 'PTS'], inplace=True)\n",
    "    players_game.rename(columns={'level_0': 'home_away', 'No': 'number', 'Spieler': 'player_name',\n",
    "                                    'Pos': 'position', 'G': 'goals', 'A': 'assists',\n",
    "                                    'PIM Total': 'penalty_minutes'}, inplace=True)\n",
    "    players_game['number'] = players_game['number'].astype(int)\n",
    "    players_game['goals'] = players_game['goals'].astype(int)\n",
    "    players_game['assists'] = players_game['assists'].astype(int)\n",
    "    players_game['penalty_minutes'] = players_game['penalty_minutes'].astype(int)\n",
    "\n",
    "    players_game = players_game[['game_id', 'home_away', 'number', 'player_name', 'position', 'goals', 'assists', 'penalty_minutes']]\n",
    "\n",
    "    # Save data to SQLite database\n",
    "    conn = db.connect('../data/hockey_stats.db')\n",
    "    players_game.to_sql(f'{league_code}_players_per_game', conn, if_exists='replace', index=False)\n",
    "    conn.commit()\n",
    "    conn.close()\n"
   ]
  },
  {
   "cell_type": "markdown",
   "metadata": {},
   "source": [
    "## Goalies per Game"
   ]
  },
  {
   "cell_type": "code",
   "execution_count": null,
   "metadata": {},
   "outputs": [
    {
     "name": "stderr",
     "output_type": "stream",
     "text": [
      "C:\\Users\\bwu\\AppData\\Local\\Temp\\ipykernel_9684\\998353457.py:13: FutureWarning: A value is trying to be set on a copy of a DataFrame or Series through chained assignment using an inplace method.\n",
      "The behavior will change in pandas 3.0. This inplace method will never work because the intermediate object on which we are setting values always behaves as a copy.\n",
      "\n",
      "For example, when doing 'df[col].method(value, inplace=True)', try using 'df.method({col: value}, inplace=True)' or df[col] = df[col].method(value) instead, to perform the operation inplace on the original object.\n",
      "\n",
      "\n",
      "  goalies_game['goals_allowed_game'] = goalies_game['goals_allowed_game'].replace('-', '0', inplace=True)\n",
      "C:\\Users\\bwu\\AppData\\Local\\Temp\\ipykernel_9684\\998353457.py:13: FutureWarning: A value is trying to be set on a copy of a DataFrame or Series through chained assignment using an inplace method.\n",
      "The behavior will change in pandas 3.0. This inplace method will never work because the intermediate object on which we are setting values always behaves as a copy.\n",
      "\n",
      "For example, when doing 'df[col].method(value, inplace=True)', try using 'df.method({col: value}, inplace=True)' or df[col] = df[col].method(value) instead, to perform the operation inplace on the original object.\n",
      "\n",
      "\n",
      "  goalies_game['goals_allowed_game'] = goalies_game['goals_allowed_game'].replace('-', '0', inplace=True)\n",
      "C:\\Users\\bwu\\AppData\\Local\\Temp\\ipykernel_9684\\998353457.py:13: FutureWarning: A value is trying to be set on a copy of a DataFrame or Series through chained assignment using an inplace method.\n",
      "The behavior will change in pandas 3.0. This inplace method will never work because the intermediate object on which we are setting values always behaves as a copy.\n",
      "\n",
      "For example, when doing 'df[col].method(value, inplace=True)', try using 'df.method({col: value}, inplace=True)' or df[col] = df[col].method(value) instead, to perform the operation inplace on the original object.\n",
      "\n",
      "\n",
      "  goalies_game['goals_allowed_game'] = goalies_game['goals_allowed_game'].replace('-', '0', inplace=True)\n",
      "C:\\Users\\bwu\\AppData\\Local\\Temp\\ipykernel_9684\\998353457.py:13: FutureWarning: A value is trying to be set on a copy of a DataFrame or Series through chained assignment using an inplace method.\n",
      "The behavior will change in pandas 3.0. This inplace method will never work because the intermediate object on which we are setting values always behaves as a copy.\n",
      "\n",
      "For example, when doing 'df[col].method(value, inplace=True)', try using 'df.method({col: value}, inplace=True)' or df[col] = df[col].method(value) instead, to perform the operation inplace on the original object.\n",
      "\n",
      "\n",
      "  goalies_game['goals_allowed_game'] = goalies_game['goals_allowed_game'].replace('-', '0', inplace=True)\n",
      "C:\\Users\\bwu\\AppData\\Local\\Temp\\ipykernel_9684\\998353457.py:13: FutureWarning: A value is trying to be set on a copy of a DataFrame or Series through chained assignment using an inplace method.\n",
      "The behavior will change in pandas 3.0. This inplace method will never work because the intermediate object on which we are setting values always behaves as a copy.\n",
      "\n",
      "For example, when doing 'df[col].method(value, inplace=True)', try using 'df.method({col: value}, inplace=True)' or df[col] = df[col].method(value) instead, to perform the operation inplace on the original object.\n",
      "\n",
      "\n",
      "  goalies_game['goals_allowed_game'] = goalies_game['goals_allowed_game'].replace('-', '0', inplace=True)\n",
      "C:\\Users\\bwu\\AppData\\Local\\Temp\\ipykernel_9684\\998353457.py:13: FutureWarning: A value is trying to be set on a copy of a DataFrame or Series through chained assignment using an inplace method.\n",
      "The behavior will change in pandas 3.0. This inplace method will never work because the intermediate object on which we are setting values always behaves as a copy.\n",
      "\n",
      "For example, when doing 'df[col].method(value, inplace=True)', try using 'df.method({col: value}, inplace=True)' or df[col] = df[col].method(value) instead, to perform the operation inplace on the original object.\n",
      "\n",
      "\n",
      "  goalies_game['goals_allowed_game'] = goalies_game['goals_allowed_game'].replace('-', '0', inplace=True)\n"
     ]
    }
   ],
   "source": [
    "# get and save table of goalies per game\n",
    "for league_name, league_code in league_dic.items():\n",
    "    goalies_game = goalie_dic[league_code]\n",
    "    goalies_game = goalies_game.copy()\n",
    "    goalies_game.drop(columns=['level_1'], inplace=True)\n",
    "    goalies_game.rename(columns={'level_0': 'home_away', 'No': 'number', 'Spieler': 'goalie_name',\n",
    "                                    'GA': 'goals_allowed', 'MIP': 'minutes_played', 'GAA': 'goals_allowed_game',\n",
    "                                    'PIM': 'penalty_minutes'}, inplace=True)\n",
    "    goalies_game['number'] = goalies_game['number'].astype(int)\n",
    "    goalies_game['goals_allowed'] = goalies_game['goals_allowed'].astype(int)\n",
    "    goalies_game['minutes_played'] = goalies_game['minutes_played'].astype(int)\n",
    "    goalies_game['penalty_minutes'] = goalies_game['penalty_minutes'].astype(int)\n",
    "    goalies_game['goals_allowed_game'] = goalies_game['goals_allowed_game'].replace('-', '0')\n",
    "    goalies_game['goals_allowed_game'] = goalies_game['goals_allowed_game'].astype(float)\n",
    "\n",
    "    goalies_game = goalies_game[['game_id', 'home_away', 'number', 'goalie_name', 'goals_allowed', 'minutes_played',\n",
    "                                     'goals_allowed_game', 'penalty_minutes']]\n",
    "\n",
    "    # Save data to SQLite database\n",
    "    conn = db.connect('../data/hockey_stats.db')\n",
    "    goalies_game.to_sql(f'{league_code}_goalies_per_game', conn, if_exists='replace', index=False)\n",
    "    conn.commit()\n",
    "    conn.close()"
   ]
  }
 ],
 "metadata": {
  "colab": {
   "provenance": []
  },
  "kernelspec": {
   "display_name": "Python 3",
   "language": "python",
   "name": "python3"
  },
  "language_info": {
   "codemirror_mode": {
    "name": "ipython",
    "version": 3
   },
   "file_extension": ".py",
   "mimetype": "text/x-python",
   "name": "python",
   "nbconvert_exporter": "python",
   "pygments_lexer": "ipython3",
   "version": "3.11.9"
  }
 },
 "nbformat": 4,
 "nbformat_minor": 4
}
